{
 "cells": [
  {
   "cell_type": "markdown",
   "metadata": {},
   "source": [
    "# 음계 \n",
    "[백준](https://www.acmicpc.net/problem/2920)\n",
    "- 난이도 : 하(easy)\n",
    "- 문제 유형 : 배열, 구현 \n",
    "- 풀이 시간 : 15분"
   ]
  },
  {
   "cell_type": "code",
   "execution_count": 8,
   "metadata": {},
   "outputs": [],
   "source": [
    "dajangjo = ['c', 'd', 'e', 'f', 'g', 'a', 'b', 'C']\n",
    "# you should change the str list to number list "
   ]
  },
  {
   "cell_type": "code",
   "execution_count": 41,
   "metadata": {},
   "outputs": [],
   "source": [
    "def scale():\n",
    "    num_scale = list(map(int, input().split(' ')))\n",
    "    ascending = True\n",
    "    descending = True\n",
    "\n",
    "    for i in range(len(num_scale)-1):\n",
    "        if num_scale[i] > num_scale[i+1] :\n",
    "            ascending = False\n",
    "        elif num_scale[i] < num_scale[i+1] :\n",
    "            descending = False\n",
    "    \n",
    "    if ascending:\n",
    "        print('ascending')\n",
    "    elif descending:\n",
    "        print('descending')\n",
    "    else:\n",
    "        print('mixed')"
   ]
  },
  {
   "cell_type": "code",
   "execution_count": 46,
   "metadata": {},
   "outputs": [
    {
     "name": "stdout",
     "output_type": "stream",
     "text": [
      "8 7 6 5 4 3 2 1\n",
      "descending\n"
     ]
    }
   ],
   "source": [
    "scale()"
   ]
  },
  {
   "cell_type": "code",
   "execution_count": null,
   "metadata": {},
   "outputs": [],
   "source": []
  }
 ],
 "metadata": {
  "kernelspec": {
   "display_name": "Python 3",
   "language": "python",
   "name": "python3"
  },
  "language_info": {
   "codemirror_mode": {
    "name": "ipython",
    "version": 3
   },
   "file_extension": ".py",
   "mimetype": "text/x-python",
   "name": "python",
   "nbconvert_exporter": "python",
   "pygments_lexer": "ipython3",
   "version": "3.7.0"
  }
 },
 "nbformat": 4,
 "nbformat_minor": 4
}
