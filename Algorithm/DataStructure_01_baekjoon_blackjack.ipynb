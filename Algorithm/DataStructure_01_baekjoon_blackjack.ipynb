{
 "cells": [
  {
   "cell_type": "markdown",
   "metadata": {},
   "source": [
    "# blackjack\n",
    "[백준](https://www.acmicpc.net/problem/2798)\n",
    "- 난이도 : 하(easy)\n",
    "- 문제 유형 : 배열, 완전 탐색\n",
    "- 풀이 시간 : 20분 "
   ]
  },
  {
   "cell_type": "code",
   "execution_count": 12,
   "metadata": {},
   "outputs": [
    {
     "name": "stdout",
     "output_type": "stream",
     "text": [
      "5 21\n",
      "5 6 7 8 9\n",
      "21\n"
     ]
    }
   ],
   "source": [
    "n, m = list(map(int, input().split(' ')))\n",
    "data = list(map(int, input().split(' ')))\n",
    "\n",
    "result = 0\n",
    "\n",
    "for i in range(n):\n",
    "    for j in range(i+1, n):\n",
    "        for k in range(j+1, n):\n",
    "            sum_value = data[i] + data[j] + data[k]\n",
    "            if sum_value <= m:\n",
    "                result = max(result, sum_value)\n",
    "\n",
    "print(result)"
   ]
  },
  {
   "cell_type": "code",
   "execution_count": null,
   "metadata": {},
   "outputs": [],
   "source": []
  },
  {
   "cell_type": "code",
   "execution_count": null,
   "metadata": {},
   "outputs": [],
   "source": []
  },
  {
   "cell_type": "code",
   "execution_count": null,
   "metadata": {},
   "outputs": [],
   "source": []
  },
  {
   "cell_type": "code",
   "execution_count": null,
   "metadata": {},
   "outputs": [],
   "source": []
  },
  {
   "cell_type": "code",
   "execution_count": null,
   "metadata": {},
   "outputs": [],
   "source": []
  },
  {
   "cell_type": "code",
   "execution_count": null,
   "metadata": {},
   "outputs": [],
   "source": []
  },
  {
   "cell_type": "code",
   "execution_count": null,
   "metadata": {},
   "outputs": [],
   "source": []
  }
 ],
 "metadata": {
  "kernelspec": {
   "display_name": "Python 3",
   "language": "python",
   "name": "python3"
  },
  "language_info": {
   "codemirror_mode": {
    "name": "ipython",
    "version": 3
   },
   "file_extension": ".py",
   "mimetype": "text/x-python",
   "name": "python",
   "nbconvert_exporter": "python",
   "pygments_lexer": "ipython3",
   "version": "3.7.0"
  }
 },
 "nbformat": 4,
 "nbformat_minor": 4
}
