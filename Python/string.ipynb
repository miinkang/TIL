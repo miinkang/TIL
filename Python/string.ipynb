{
 "cells": [
  {
   "cell_type": "markdown",
   "metadata": {},
   "source": [
    "### escape character\n",
    "\n",
    "- `\\n` : 줄바꿈 (개행문자) \n",
    "- `\\t` : Tab\n",
    "- `\\'` : 작은 따옴표\n",
    "- `\\\"` : 큰 따옴표\n",
    "- `\\\\` : \\\n",
    "- `\\r` : 캐리지 리턴 (마지막 커서에 한 글자 앞으로), 하나 삭제하는 느낌으로 사용"
   ]
  },
  {
   "cell_type": "code",
   "execution_count": 5,
   "metadata": {},
   "outputs": [
    {
     "name": "stdout",
     "output_type": "stream",
     "text": [
      "I'm craving in \"malatang\"!!! \\O/\t malatang save my life\n"
     ]
    }
   ],
   "source": [
    "print('I\\'m craving in \\\"malatang\"!!! \\\\O/\\t malatang save my life')"
   ]
  },
  {
   "cell_type": "markdown",
   "metadata": {},
   "source": [
    "### string method\n",
    "- `strip()` : delimete \\n\n",
    "- `find()` : find specific str in strings\n",
    "- `replace()` : replace another str\n",
    "- `split()` : delimete escape character and make a list"
   ]
  },
  {
   "cell_type": "code",
   "execution_count": 6,
   "metadata": {},
   "outputs": [
    {
     "name": "stdout",
     "output_type": "stream",
     "text": [
      " left blank, right blank \n",
      "left blank, right blank \n",
      " left blank, right blank\n",
      "left blank, right blank\n"
     ]
    }
   ],
   "source": [
    "nested_string = ' left blank, right blank '\n",
    "print(nested_string)\n",
    "print(nested_string.lstrip()) # delimete left blank\n",
    "print(nested_string.rstrip()) # delimete right blank\n",
    "print(nested_string.strip()) # delimete all blank"
   ]
  },
  {
   "cell_type": "code",
   "execution_count": 10,
   "metadata": {},
   "outputs": [
    {
     "name": "stdout",
     "output_type": "stream",
     "text": [
      "20\n",
      "-1\n"
     ]
    }
   ],
   "source": [
    "colour_list = 'red, yellow, black, white'\n",
    "print(colour_list.find('white')) # if find, print starting index\n",
    "print(colour_list.find('blue')) # if not find, print -1 (=Null)"
   ]
  },
  {
   "cell_type": "code",
   "execution_count": 12,
   "metadata": {},
   "outputs": [
    {
     "name": "stdout",
     "output_type": "stream",
     "text": [
      "red, yellow, black, white\n"
     ]
    },
    {
     "data": {
      "text/plain": [
       "'red  yellow  black  white'"
      ]
     },
     "execution_count": 12,
     "metadata": {},
     "output_type": "execute_result"
    }
   ],
   "source": [
    "print(colour_list)\n",
    "colour_list.replace(',', ' ')"
   ]
  },
  {
   "cell_type": "code",
   "execution_count": 14,
   "metadata": {},
   "outputs": [
    {
     "data": {
      "text/plain": [
       "'red, yellow, black, white'"
      ]
     },
     "execution_count": 14,
     "metadata": {},
     "output_type": "execute_result"
    }
   ],
   "source": [
    "colour_list  # origin variable is not changed"
   ]
  },
  {
   "cell_type": "code",
   "execution_count": 15,
   "metadata": {},
   "outputs": [
    {
     "data": {
      "text/plain": [
       "['red,', 'yellow,', 'black,', 'white']"
      ]
     },
     "execution_count": 15,
     "metadata": {},
     "output_type": "execute_result"
    }
   ],
   "source": [
    "colour_list.split()"
   ]
  }
 ],
 "metadata": {
  "kernelspec": {
   "display_name": "Python 3",
   "language": "python",
   "name": "python3"
  },
  "language_info": {
   "codemirror_mode": {
    "name": "ipython",
    "version": 3
   },
   "file_extension": ".py",
   "mimetype": "text/x-python",
   "name": "python",
   "nbconvert_exporter": "python",
   "pygments_lexer": "ipython3",
   "version": "3.8.3"
  }
 },
 "nbformat": 4,
 "nbformat_minor": 4
}
