{
 "cells": [
  {
   "cell_type": "code",
   "execution_count": 15,
   "id": "serious-inclusion",
   "metadata": {},
   "outputs": [
    {
     "data": {
      "text/plain": [
       "Counter({'a': 2, 'b': 1})"
      ]
     },
     "execution_count": 15,
     "metadata": {},
     "output_type": "execute_result"
    }
   ],
   "source": [
    "from collections import Counter\n",
    "\n",
    "my_str = 'aab'\n",
    "count_str = Counter(my_str)\n",
    "print(count_str)  "
   ]
  },
  {
   "cell_type": "markdown",
   "id": "material-place",
   "metadata": {},
   "source": [
    "- dictionary 형태로 key, value 값을 가져올 수 있다."
   ]
  },
  {
   "cell_type": "code",
   "execution_count": 18,
   "id": "selected-serve",
   "metadata": {},
   "outputs": [
    {
     "data": {
      "text/plain": [
       "2"
      ]
     },
     "execution_count": 18,
     "metadata": {},
     "output_type": "execute_result"
    }
   ],
   "source": [
    "max(count_str.values())"
   ]
  },
  {
   "cell_type": "code",
   "execution_count": null,
   "id": "educated-indie",
   "metadata": {},
   "outputs": [],
   "source": [
    "from collections import Counter\n",
    "\n",
    "my_str = input().strip()\n",
    "\n",
    "def common_alphabet(my_str):\n",
    "    count_str = Counter(my_str) \n",
    "    max_values = max(count_str.values())\n",
    "    \n",
    "    answer = []\n",
    "    for s in count_str.keys():\n",
    "        if count_str[s] == max_values:\n",
    "            answer.append(s)\n",
    "    answer = sorted(answer)\n",
    "    return answer\n",
    "\n",
    "print(''.join(answer))"
   ]
  }
 ],
 "metadata": {
  "kernelspec": {
   "display_name": "Python 3",
   "language": "python",
   "name": "python3"
  },
  "language_info": {
   "codemirror_mode": {
    "name": "ipython",
    "version": 3
   },
   "file_extension": ".py",
   "mimetype": "text/x-python",
   "name": "python",
   "nbconvert_exporter": "python",
   "pygments_lexer": "ipython3",
   "version": "3.7.9"
  }
 },
 "nbformat": 4,
 "nbformat_minor": 5
}
