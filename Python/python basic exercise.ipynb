{
 "cells": [
  {
   "cell_type": "markdown",
   "metadata": {},
   "source": [
    "### exercise\n",
    "\n",
    "return test score to grade\n",
    "\n",
    "- A : > 90\n",
    "- B : > 80 \n",
    "- C : > 70\n",
    "- D : > 60\n",
    "- F"
   ]
  },
  {
   "cell_type": "code",
   "execution_count": 20,
   "metadata": {
    "scrolled": true
   },
   "outputs": [
    {
     "name": "stdout",
     "output_type": "stream",
     "text": [
      "test score:78\n",
      "D\n"
     ]
    }
   ],
   "source": [
    "score = int(input('test score:'))\n",
    "score_list = 'FFFFFFFDCBAA'\n",
    "print(score_list[(score)//10])"
   ]
  },
  {
   "cell_type": "markdown",
   "metadata": {},
   "source": [
    "### exercise\n",
    "\n",
    "write one line if statements\n",
    "\n",
    "- `num%3==0` : 'zero'\n",
    "- `num%3==1` : 'one'\n",
    "- `num%3==2` : 'two'"
   ]
  },
  {
   "cell_type": "code",
   "execution_count": 21,
   "metadata": {},
   "outputs": [],
   "source": [
    "num = 19\n",
    "three = 'zero' if num%3==0 else ('one' if num%3==1 else 'two')"
   ]
  },
  {
   "cell_type": "code",
   "execution_count": 22,
   "metadata": {},
   "outputs": [
    {
     "name": "stdout",
     "output_type": "stream",
     "text": [
      "one\n"
     ]
    }
   ],
   "source": [
    "print(three)"
   ]
  }
 ],
 "metadata": {
  "kernelspec": {
   "display_name": "Python 3",
   "language": "python",
   "name": "python3"
  },
  "language_info": {
   "codemirror_mode": {
    "name": "ipython",
    "version": 3
   },
   "file_extension": ".py",
   "mimetype": "text/x-python",
   "name": "python",
   "nbconvert_exporter": "python",
   "pygments_lexer": "ipython3",
   "version": "3.8.3"
  }
 },
 "nbformat": 4,
 "nbformat_minor": 4
}
