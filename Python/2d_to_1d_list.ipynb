{
 "cells": [
  {
   "cell_type": "markdown",
   "id": "conservative-chester",
   "metadata": {},
   "source": [
    "## 2차원 리스트를 1차원으로 변환하는 기능 탐색"
   ]
  },
  {
   "cell_type": "code",
   "execution_count": 1,
   "id": "editorial-uruguay",
   "metadata": {},
   "outputs": [],
   "source": [
    "my_list = [[1, 2], [3, 4], [5, 6]]"
   ]
  },
  {
   "cell_type": "code",
   "execution_count": 3,
   "id": "cosmetic-portrait",
   "metadata": {},
   "outputs": [
    {
     "data": {
      "text/plain": [
       "[1, 2, 3, 4, 5, 6]"
      ]
     },
     "execution_count": 3,
     "metadata": {},
     "output_type": "execute_result"
    }
   ],
   "source": [
    "# 1. list comprehension\n",
    "list_1d = [j for i in my_list for j in i]\n",
    "list_1d"
   ]
  },
  {
   "cell_type": "code",
   "execution_count": 4,
   "id": "suffering-background",
   "metadata": {},
   "outputs": [
    {
     "data": {
      "text/plain": [
       "[1, 2, 3, 4, 5, 6]"
      ]
     },
     "execution_count": 4,
     "metadata": {},
     "output_type": "execute_result"
    }
   ],
   "source": [
    "# 2. sum function\n",
    "sum(my_list, [])"
   ]
  },
  {
   "cell_type": "code",
   "execution_count": 5,
   "id": "civil-jackson",
   "metadata": {},
   "outputs": [
    {
     "data": {
      "text/plain": [
       "[1, 2, 3, 4, 5, 6]"
      ]
     },
     "execution_count": 5,
     "metadata": {},
     "output_type": "execute_result"
    }
   ],
   "source": [
    "# 3. itertools.chain\n",
    "import itertools\n",
    "\n",
    "list(itertools.chain.from_iterable(my_list))"
   ]
  },
  {
   "cell_type": "markdown",
   "id": "necessary-planet",
   "metadata": {},
   "source": [
    "- reduce : 왼쪽부터 오른쪽까지 iterable 객체의 원소를 누적한다.\n",
    "- For example, reduce(lambda x, y: x+y, \\[1, 2, 3, 4, 5]) calculates ((((1+2)+3)+4)+5). "
   ]
  },
  {
   "cell_type": "code",
   "execution_count": 8,
   "id": "secret-partnership",
   "metadata": {},
   "outputs": [
    {
     "data": {
      "text/plain": [
       "[1, 2, 3, 4, 5, 6]"
      ]
     },
     "execution_count": 8,
     "metadata": {},
     "output_type": "execute_result"
    }
   ],
   "source": [
    "# 4. reduce function\n",
    "from functools import reduce\n",
    "\n",
    "list(reduce(lambda x,y :x+y, my_list))"
   ]
  },
  {
   "cell_type": "code",
   "execution_count": 9,
   "id": "difficult-specific",
   "metadata": {},
   "outputs": [
    {
     "data": {
      "text/plain": [
       "[1, 2, 3, 4, 5, 6]"
      ]
     },
     "execution_count": 9,
     "metadata": {},
     "output_type": "execute_result"
    }
   ],
   "source": [
    "# 5. reduce, operator\n",
    "# lambda식 대신 operator사용 \n",
    "import operator\n",
    "\n",
    "list(reduce(operator.add, my_list))"
   ]
  }
 ],
 "metadata": {
  "kernelspec": {
   "display_name": "Python 3",
   "language": "python",
   "name": "python3"
  },
  "language_info": {
   "codemirror_mode": {
    "name": "ipython",
    "version": 3
   },
   "file_extension": ".py",
   "mimetype": "text/x-python",
   "name": "python",
   "nbconvert_exporter": "python",
   "pygments_lexer": "ipython3",
   "version": "3.7.9"
  }
 },
 "nbformat": 4,
 "nbformat_minor": 5
}
