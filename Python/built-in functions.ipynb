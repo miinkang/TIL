{
 "cells": [
  {
   "cell_type": "markdown",
   "metadata": {},
   "source": [
    "### eval( )\n",
    "\n",
    "calculate text"
   ]
  },
  {
   "cell_type": "code",
   "execution_count": 1,
   "metadata": {},
   "outputs": [
    {
     "data": {
      "text/plain": [
       "1024"
      ]
     },
     "execution_count": 1,
     "metadata": {},
     "output_type": "execute_result"
    }
   ],
   "source": [
    "txt = '2**10'\n",
    "eval(txt)"
   ]
  },
  {
   "cell_type": "markdown",
   "metadata": {},
   "source": [
    "#### mathematical notation\n",
    "### round, abs, pow, divmod\n",
    "\n",
    "- `round` : rounds\n",
    "- `abs` : absolute\n",
    "- `pow` : power\n",
    "- `divmod` : quotient, remainder\n",
    "\n",
    "**round**"
   ]
  },
  {
   "cell_type": "code",
   "execution_count": 2,
   "metadata": {},
   "outputs": [
    {
     "data": {
      "text/plain": [
       "1"
      ]
     },
     "execution_count": 2,
     "metadata": {},
     "output_type": "execute_result"
    }
   ],
   "source": [
    "round(1, 3)"
   ]
  },
  {
   "cell_type": "markdown",
   "metadata": {},
   "source": [
    "**abs**"
   ]
  },
  {
   "cell_type": "code",
   "execution_count": 3,
   "metadata": {},
   "outputs": [
    {
     "data": {
      "text/plain": [
       "189"
      ]
     },
     "execution_count": 3,
     "metadata": {},
     "output_type": "execute_result"
    }
   ],
   "source": [
    "abs(-189)"
   ]
  },
  {
   "cell_type": "markdown",
   "metadata": {},
   "source": [
    "**pow**"
   ]
  },
  {
   "cell_type": "code",
   "execution_count": 10,
   "metadata": {},
   "outputs": [
    {
     "name": "stdout",
     "output_type": "stream",
     "text": [
      "1024\n",
      "6\n"
     ]
    }
   ],
   "source": [
    "print(pow(2, 10))\n",
    "print(pow(4, 2, 10))  # remainder "
   ]
  },
  {
   "cell_type": "markdown",
   "metadata": {},
   "source": [
    "**divmod**"
   ]
  },
  {
   "cell_type": "code",
   "execution_count": 12,
   "metadata": {},
   "outputs": [
    {
     "data": {
      "text/plain": [
       "(33, 1)"
      ]
     },
     "execution_count": 12,
     "metadata": {},
     "output_type": "execute_result"
    }
   ],
   "source": [
    "divmod(100, 3)"
   ]
  },
  {
   "cell_type": "markdown",
   "metadata": {},
   "source": [
    "### sorted\n",
    "- reverse : sort reverse\n",
    "- key : standard to sort "
   ]
  },
  {
   "cell_type": "code",
   "execution_count": 1,
   "metadata": {},
   "outputs": [
    {
     "name": "stdout",
     "output_type": "stream",
     "text": [
      "[1, 3, 7, 8, 10]\n"
     ]
    }
   ],
   "source": [
    "lst = [3, 7, 10 , 8, 1]\n",
    "\n",
    "new_lst = sorted(lst) # make new list \n",
    "print(new_lst)"
   ]
  },
  {
   "cell_type": "code",
   "execution_count": 2,
   "metadata": {},
   "outputs": [
    {
     "data": {
      "text/plain": [
       "[1, 3, 7, 8, 10]"
      ]
     },
     "execution_count": 2,
     "metadata": {},
     "output_type": "execute_result"
    }
   ],
   "source": [
    "lst.sort() # change original list \n",
    "lst"
   ]
  },
  {
   "cell_type": "code",
   "execution_count": 3,
   "metadata": {},
   "outputs": [
    {
     "name": "stdout",
     "output_type": "stream",
     "text": [
      "[(13, 5), (15, 8), (16, 6), (18, 2), (19, 7), (20, 10)]\n"
     ]
    }
   ],
   "source": [
    "fruit_price = [\n",
    "    (15, 8),\n",
    "    (13, 5),\n",
    "    (16, 6),\n",
    "    (19, 7),\n",
    "    (20, 10),\n",
    "    (18, 2)\n",
    "]\n",
    "\n",
    "print(sorted(fruit_price))"
   ]
  },
  {
   "cell_type": "code",
   "execution_count": 4,
   "metadata": {},
   "outputs": [
    {
     "name": "stdout",
     "output_type": "stream",
     "text": [
      "[(20, 10), (19, 7), (18, 2), (16, 6), (15, 8), (13, 5)]\n"
     ]
    }
   ],
   "source": [
    "print(sorted(fruit_price, reverse=True))\n",
    "\n",
    "# sorted(h_w)[::-1]   # you can use indexing "
   ]
  },
  {
   "cell_type": "markdown",
   "metadata": {},
   "source": [
    "use function as key"
   ]
  },
  {
   "cell_type": "code",
   "execution_count": 5,
   "metadata": {},
   "outputs": [
    {
     "name": "stdout",
     "output_type": "stream",
     "text": [
      "[(18, 2), (13, 5), (16, 6), (19, 7), (15, 8), (20, 10)]\n"
     ]
    }
   ],
   "source": [
    "def take_second(elem):\n",
    "    return elem[1] # second value\n",
    "\n",
    "print(sorted(fruit_price, key=take_second))"
   ]
  },
  {
   "cell_type": "markdown",
   "metadata": {},
   "source": [
    "### enumerate, zip\n",
    "\n",
    "- `enumerate` : iterate with count\n",
    "- `zip` : iterate two or more iteratable data together "
   ]
  },
  {
   "cell_type": "code",
   "execution_count": 6,
   "metadata": {},
   "outputs": [
    {
     "name": "stdout",
     "output_type": "stream",
     "text": [
      "0 1\n",
      "1 3\n",
      "2 7\n",
      "3 8\n",
      "4 10\n"
     ]
    }
   ],
   "source": [
    "for idx, value in enumerate(lst):\n",
    "    print(idx, value)"
   ]
  },
  {
   "cell_type": "code",
   "execution_count": 7,
   "metadata": {},
   "outputs": [
    {
     "name": "stdout",
     "output_type": "stream",
     "text": [
      "0 33\n",
      "1 11\n",
      "2 44\n",
      "3 22\n",
      "4 55\n"
     ]
    }
   ],
   "source": [
    "for idx, value in enumerate({11, 22, 33, 44, 55}):\n",
    "    print(idx, value)"
   ]
  },
  {
   "cell_type": "code",
   "execution_count": 8,
   "metadata": {},
   "outputs": [
    {
     "data": {
      "text/plain": [
       "[(1, (15, 8)), (3, (13, 5)), (7, (16, 6)), (8, (19, 7)), (10, (20, 10))]"
      ]
     },
     "execution_count": 8,
     "metadata": {},
     "output_type": "execute_result"
    }
   ],
   "source": [
    "list(zip(lst, fruit_price))"
   ]
  },
  {
   "cell_type": "markdown",
   "metadata": {},
   "source": [
    "### map, filter : use with iterator\n",
    "\n",
    "- mapping : change iteratable data "
   ]
  },
  {
   "cell_type": "code",
   "execution_count": 9,
   "metadata": {},
   "outputs": [
    {
     "name": "stdout",
     "output_type": "stream",
     "text": [
      "[1, 2, 3, 4, 5, 6]\n"
     ]
    }
   ],
   "source": [
    "txt = '1 2 3 4 5 6'\n",
    "lst = list(map(int, txt.split()))\n",
    "print(lst)"
   ]
  }
 ],
 "metadata": {
  "kernelspec": {
   "display_name": "Python 3",
   "language": "python",
   "name": "python3"
  },
  "language_info": {
   "codemirror_mode": {
    "name": "ipython",
    "version": 3
   },
   "file_extension": ".py",
   "mimetype": "text/x-python",
   "name": "python",
   "nbconvert_exporter": "python",
   "pygments_lexer": "ipython3",
   "version": "3.8.3"
  }
 },
 "nbformat": 4,
 "nbformat_minor": 4
}
